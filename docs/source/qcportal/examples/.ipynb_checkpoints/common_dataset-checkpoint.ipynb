{
 "cells": [
  {
   "cell_type": "markdown",
   "id": "ec901539",
   "metadata": {},
   "source": [
    "# Dataset Basics"
   ]
  },
  {
   "cell_type": "markdown",
   "id": "f6e64e73",
   "metadata": {},
   "source": [
    "In this example, we will be working with a Singlepoint Dataset. However, the concepts will apply to all other datasets"
   ]
  },
  {
   "cell_type": "code",
   "execution_count": 1,
   "id": "9e6ffc20",
   "metadata": {},
   "outputs": [],
   "source": [
    "from qcportal import PortalClient\n",
    "from qcportal.records.singlepoint import QCSpecification\n",
    "from qcportal.datasets.singlepoint import SinglepointDatasetNewEntry\n",
    "from qcportal.molecules import Molecule\n",
    "from qcfractal import FractalSnowflake"
   ]
  },
  {
   "cell_type": "markdown",
   "id": "5f14fee2",
   "metadata": {},
   "source": [
    "For this example, we will use a snowflake server. For production calculations, you will generally be connecting to an external server."
   ]
  },
  {
   "cell_type": "code",
   "execution_count": 2,
   "id": "d6d4c006",
   "metadata": {},
   "outputs": [],
   "source": [
    "snowflake = FractalSnowflake()"
   ]
  },
  {
   "cell_type": "markdown",
   "id": "c33774fa",
   "metadata": {},
   "source": [
    "The snowflake sets up a database and server. We can get a client to that server from the snowflake object"
   ]
  },
  {
   "cell_type": "code",
   "execution_count": 3,
   "id": "a60ac3a9",
   "metadata": {},
   "outputs": [],
   "source": [
    "client = snowflake.client()"
   ]
  },
  {
   "cell_type": "markdown",
   "id": "1695829b",
   "metadata": {},
   "source": [
    "## Creating the dataset, entries, and specifications"
   ]
  },
  {
   "cell_type": "markdown",
   "id": "bc237c0a",
   "metadata": {},
   "source": [
    "Next, we will create the singlepoint dataset on the server. We will also give it a default tag.\n",
    "\n",
    "The first argument is the type of dataset. See\n",
    "[PortalClient.add_dataset](../api/qcportal.rst#qcportal.client.PortalClient.add_dataset) for more options."
   ]
  },
  {
   "cell_type": "code",
   "execution_count": 4,
   "id": "3a160294",
   "metadata": {},
   "outputs": [],
   "source": [
    "ds = client.add_dataset(\"singlepoint\",\n",
    "                        name=\"Element Benchmark\",\n",
    "                        description=\"Variety of calculations on single atoms\",\n",
    "                        default_tag='sp_el_tag')"
   ]
  },
  {
   "cell_type": "markdown",
   "id": "497e238a",
   "metadata": {},
   "source": [
    "Now add datasaet entries. For a singlepoint dataset, these correspond to the molecules the singlepoint calculation runs on.\n",
    "\n",
    "This cell creates ten Molecule objects, one for each of the first 10 elements, with the atom at the origin. It then creates entries for the dataset, and adds them to the dataset.\n",
    "\n",
    "Dataset entries can have other fields as well. See, for example, [SinglepointDatasetNewEntry](../api/qcportal.datasets.singlepoint.rst#qcportal.datasets.singlepoint.models.SinglepointDatasetNewEntry)"
   ]
  },
  {
   "cell_type": "code",
   "execution_count": 5,
   "id": "7797ecdb",
   "metadata": {},
   "outputs": [],
   "source": [
    "for m in ['h', 'he', 'li', 'be', 'b', 'c', 'n', 'o', 'f', 'ne']:\n",
    "    mol = Molecule(symbols=[m], geometry=[0.0, 0.0, 0.0])\n",
    "    \n",
    "    # Creates an entry from the molecule. The entry contains the molecule and a name,\n",
    "    # but there are additional fields you can have as well\n",
    "    entry_name = m + \"_atom\"\n",
    "    ent = SinglepointDatasetNewEntry(name=entry_name + \"\", molecule=mol)\n",
    "    ds.add_entries([ent])"
   ]
  },
  {
   "cell_type": "markdown",
   "id": "a85c84b3",
   "metadata": {},
   "source": [
    "We will now create two different specifications, and add them to the dataset. The First will be hf/sto-3g, and the second will be mp2/aug-cc-pvtz.\n",
    "\n",
    "On both, we will increase the maximum number of SCF iterations to 100"
   ]
  },
  {
   "cell_type": "code",
   "execution_count": 6,
   "id": "889afa1e",
   "metadata": {},
   "outputs": [],
   "source": [
    "spec_1 = QCSpecification(\n",
    "            program=\"psi4\",\n",
    "            driver=\"energy\",\n",
    "            method=\"hf\",\n",
    "            basis=\"sto-3g\",\n",
    "            keywords={\"maxiter\": 100}\n",
    ")\n",
    "\n",
    "spec_2 = QCSpecification(\n",
    "            program=\"psi4\",\n",
    "            driver=\"properties\",\n",
    "            method=\"mp2\",\n",
    "            basis=\"aug-cc-pvtz\",\n",
    "            keywords={\"maxiter\": 100}\n",
    ")\n",
    "\n",
    "ds.add_specification(name=\"hf/sto-3g\", specification=spec_1)\n",
    "ds.add_specification(name=\"mp2/aug-cc-pvtz\", specification=spec_2)"
   ]
  },
  {
   "cell_type": "markdown",
   "id": "f6b87eaf",
   "metadata": {},
   "source": [
    "## Submitting the computations and checking the status"
   ]
  },
  {
   "cell_type": "markdown",
   "id": "40b6dea3",
   "metadata": {},
   "source": [
    "At this point, we have added specifications and entries,\n",
    "but have not submitted any calculations yet. We do that with\n",
    "the `submit()` function\n",
    "\n",
    "By default, this submits all calculations, but we could restrict the entries\n",
    "and specifications that get submitted.\n",
    "\n",
    "The compute tag for all these computations can be specified here, but by default, the `default_tag` we passed to the `add_dataset` function will be used."
   ]
  },
  {
   "cell_type": "code",
   "execution_count": 7,
   "id": "b1d94834",
   "metadata": {},
   "outputs": [],
   "source": [
    "ds.submit()"
   ]
  },
  {
   "cell_type": "markdown",
   "id": "53663193",
   "metadata": {},
   "source": [
    "We can check the status of the calculations on the server with the `status()` function. Note that this will always be computed on the server, and will not use any locally-cached records."
   ]
  },
  {
   "cell_type": "code",
   "execution_count": 16,
   "id": "d090be95",
   "metadata": {},
   "outputs": [
    {
     "data": {
      "text/plain": [
       "{'hf/sto-3g': {<RecordStatusEnum.complete: 'complete'>: 10},\n",
       " 'mp2/aug-cc-pvtz': {<RecordStatusEnum.complete: 'complete'>: 5,\n",
       "  <RecordStatusEnum.error: 'error'>: 5}}"
      ]
     },
     "execution_count": 16,
     "metadata": {},
     "output_type": "execute_result"
    }
   ],
   "source": [
    "ds.status()"
   ]
  },
  {
   "cell_type": "markdown",
   "id": "1aad9551",
   "metadata": {},
   "source": [
    "## Entries and specifications"
   ]
  },
  {
   "cell_type": "markdown",
   "id": "75f5abc7",
   "metadata": {},
   "source": [
    "Specifications can be viewed with the `specifications` property, which returns a dictionary"
   ]
  },
  {
   "cell_type": "code",
   "execution_count": 9,
   "id": "c582a2d6",
   "metadata": {},
   "outputs": [
    {
     "data": {
      "text/plain": [
       "{'hf/sto-3g': SinglepointDatasetSpecification(name='hf/sto-3g', specification=QCSpecification(program='psi4', driver=<SinglepointDriver.energy: 'energy'>, method='hf', basis='sto-3g', keywords={'maxiter': 100}, protocols=AtomicResultProtocols(wavefunction=<WavefunctionProtocolEnum.none: 'none'>, stdout=True, error_correction=ErrorCorrectionProtocol(default_policy=True, policies=None), native_files=<NativeFilesProtocolEnum.none: 'none'>)), description=None),\n",
       " 'mp2/aug-cc-pvtz': SinglepointDatasetSpecification(name='mp2/aug-cc-pvtz', specification=QCSpecification(program='psi4', driver=<SinglepointDriver.properties: 'properties'>, method='mp2', basis='aug-cc-pvtz', keywords={'maxiter': 100}, protocols=AtomicResultProtocols(wavefunction=<WavefunctionProtocolEnum.none: 'none'>, stdout=True, error_correction=ErrorCorrectionProtocol(default_policy=True, policies=None), native_files=<NativeFilesProtocolEnum.none: 'none'>)), description=None)}"
      ]
     },
     "execution_count": 9,
     "metadata": {},
     "output_type": "execute_result"
    }
   ],
   "source": [
    "ds.specifications"
   ]
  },
  {
   "cell_type": "markdown",
   "id": "57ba17df",
   "metadata": {},
   "source": [
    "For entries, we can get a list of entry names with `entry_names`"
   ]
  },
  {
   "cell_type": "code",
   "execution_count": 10,
   "id": "a2016ce7",
   "metadata": {},
   "outputs": [
    {
     "data": {
      "text/plain": [
       "['h_atom',\n",
       " 'he_atom',\n",
       " 'li_atom',\n",
       " 'be_atom',\n",
       " 'b_atom',\n",
       " 'c_atom',\n",
       " 'n_atom',\n",
       " 'o_atom',\n",
       " 'f_atom',\n",
       " 'ne_atom']"
      ]
     },
     "execution_count": 10,
     "metadata": {},
     "output_type": "execute_result"
    }
   ],
   "source": [
    "ds.entry_names"
   ]
  },
  {
   "cell_type": "markdown",
   "id": "1fd9b7c7",
   "metadata": {},
   "source": [
    "To get the full information about an entry, use [get_entry()](../api/qcportal.datasets.rst#qcportal.datasets.models.BaseDataset.get_entry). This function will fetch from the server as needed.\n",
    "\n",
    "By default, this will not fetch the full molecule for the entry. We can force that with `include=['molecule']`"
   ]
  },
  {
   "cell_type": "code",
   "execution_count": 11,
   "id": "c6674b70",
   "metadata": {},
   "outputs": [
    {
     "data": {
      "text/plain": [
       "SinglepointDatasetEntry(name='h_atom', comment=None, molecule=Molecule(name='H', formula='H', hash='512c204'), additional_keywords={}, attributes={}, molecule_id=1, local_results=None)"
      ]
     },
     "execution_count": 11,
     "metadata": {},
     "output_type": "execute_result"
    }
   ],
   "source": [
    "ds.get_entry('h_atom', include=['molecule'])"
   ]
  },
  {
   "cell_type": "markdown",
   "id": "61cb9855",
   "metadata": {},
   "source": [
    "We can iterate over all the entries with\n",
    "[iterate_entries()](../api/qcportal.datasets.rst#qcportal.datasets.models.BaseDataset.iterate_entries).\n",
    "This function returns a python generator and will automatically fetch entry information as needed"
   ]
  },
  {
   "cell_type": "code",
   "execution_count": 12,
   "id": "dc20e67f",
   "metadata": {},
   "outputs": [
    {
     "name": "stdout",
     "output_type": "stream",
     "text": [
      "h_atom 512c204fbb415052dbcf3bca37cde209edb05c6c\n",
      "he_atom b3855c64e9f61158f5e449e2df7b79bf1fa599d7\n",
      "li_atom 276d7fc85bb9f9a56b45e238b277ca7033701d47\n",
      "be_atom 323841f39301b6ba786dc777fc00b772585748b4\n",
      "b_atom 52710bae9ed5f58616c108ecebb5156cf06eb5d7\n",
      "c_atom 95903295c6c2e250e62e0b930ae0916f8ee82c3d\n",
      "n_atom 4549a18cc99231565da1764ccd20855198628d1b\n",
      "o_atom 61591a7367f341bba8c2e9a8afa15f740b651efe\n",
      "f_atom 3fdfbc30f87150456ef640e32982a81bbae6fcdc\n",
      "ne_atom d078cfcbf6d52ba080868acb0560296bb7c4542a\n"
     ]
    }
   ],
   "source": [
    "for entry in ds.iterate_entries(include=['molecule']):\n",
    "    print(entry.name, entry.molecule.get_hash())"
   ]
  },
  {
   "cell_type": "markdown",
   "id": "0f51db20",
   "metadata": {},
   "source": [
    "## Getting and iterating over records"
   ]
  },
  {
   "cell_type": "markdown",
   "id": "a60b5b29",
   "metadata": {},
   "source": [
    "Records are indexed by the entry name and the specification name. Similar to entries, a single record can be obtained with [get_record()](../api/qcportal.datasets.rst#qcportal.datasets.models.BaseDataset.get_record)"
   ]
  },
  {
   "cell_type": "code",
   "execution_count": 13,
   "id": "5c26a403",
   "metadata": {},
   "outputs": [
    {
     "name": "stdout",
     "output_type": "stream",
     "text": [
      "3\n"
     ]
    },
    {
     "ename": "AttributeError",
     "evalue": "'NoneType' object has no attribute 'return_energy'",
     "output_type": "error",
     "traceback": [
      "\u001b[0;31m---------------------------------------------------------------------------\u001b[0m",
      "\u001b[0;31mAttributeError\u001b[0m                            Traceback (most recent call last)",
      "Input \u001b[0;32mIn [13]\u001b[0m, in \u001b[0;36m<cell line: 3>\u001b[0;34m()\u001b[0m\n\u001b[1;32m      1\u001b[0m rec \u001b[38;5;241m=\u001b[39m ds\u001b[38;5;241m.\u001b[39mget_record(\u001b[38;5;124m\"\u001b[39m\u001b[38;5;124mh_atom\u001b[39m\u001b[38;5;124m\"\u001b[39m, \u001b[38;5;124m\"\u001b[39m\u001b[38;5;124mhf/sto-3g\u001b[39m\u001b[38;5;124m\"\u001b[39m)\n\u001b[1;32m      2\u001b[0m \u001b[38;5;28mprint\u001b[39m(rec\u001b[38;5;241m.\u001b[39mid)\n\u001b[0;32m----> 3\u001b[0m \u001b[38;5;28mprint\u001b[39m(\u001b[43mrec\u001b[49m\u001b[38;5;241;43m.\u001b[39;49m\u001b[43mproperties\u001b[49m\u001b[38;5;241;43m.\u001b[39;49m\u001b[43mreturn_energy\u001b[49m)\n",
      "\u001b[0;31mAttributeError\u001b[0m: 'NoneType' object has no attribute 'return_energy'"
     ]
    }
   ],
   "source": [
    "rec = ds.get_record(\"h_atom\", \"hf/sto-3g\")\n",
    "print(rec.id)\n",
    "print(rec.properties.return_energy)"
   ]
  },
  {
   "cell_type": "markdown",
   "id": "ce8bd538",
   "metadata": {},
   "source": [
    "When you need information about a bunch of records, we can iterate over all of them with\n",
    "[iterate_records()](../api/qcportal.datasets.rst#qcportal.datasets.models.BaseDataset.iterate_records).\n",
    "\n",
    "This function returns a generator which produces a tuple with 3 values (entry name, specification name, and record).\n",
    "This function will also automatically fetch records information as needed\n",
    "\n",
    "[iterate_records()](../api/qcportal.datasets.rst#qcportal.datasets.models.BaseDataset.iterate_records) has some additional arguments which are useful, such as being able to iterate only over records with a particular status. This is useful in this case because some computations have not finished or are errored."
   ]
  },
  {
   "cell_type": "code",
   "execution_count": null,
   "id": "25573b8f",
   "metadata": {},
   "outputs": [],
   "source": [
    "for entry_name, spec_name, record in ds.iterate_records(status='complete'):\n",
    "    print(entry_name, spec_name, record.properties.return_energy)"
   ]
  },
  {
   "cell_type": "markdown",
   "id": "a05b281b",
   "metadata": {},
   "source": [
    "## Compiling a pandas dataframe"
   ]
  },
  {
   "cell_type": "markdown",
   "id": "45574c24",
   "metadata": {},
   "source": [
    "One common task is to create a pandas dataframe with values that you have computed. For this, you can use\n",
    "[compile_values()](../api/qcportal.datasets.rst#qcportal.datasets.models.BaseDataset.compile_values).\n",
    "\n",
    "The first argument of this function is a callable which is applied to all (completed) records, and is used to extract the values stored in the dataframe. The function then iterates over all records, applies that function,\n",
    "and creates the pandas dataframe for you."
   ]
  },
  {
   "cell_type": "code",
   "execution_count": 14,
   "id": "8c13b2cc",
   "metadata": {},
   "outputs": [],
   "source": [
    "df = ds.compile_values(lambda r: r.properties.return_energy, 'total energy')"
   ]
  },
  {
   "cell_type": "code",
   "execution_count": 15,
   "id": "1683a51c",
   "metadata": {},
   "outputs": [
    {
     "name": "stdout",
     "output_type": "stream",
     "text": [
      "specification  hf/sto-3g\n",
      "entry                   \n",
      "b_atom        -24.149117\n",
      "h_atom         -0.466582\n",
      "he_atom        -2.807913\n",
      "o_atom        -73.661918\n"
     ]
    }
   ],
   "source": [
    "print(df)"
   ]
  },
  {
   "cell_type": "code",
   "execution_count": null,
   "id": "a38612ca-2be1-4869-9bcb-ad43255c181e",
   "metadata": {},
   "outputs": [],
   "source": []
  }
 ],
 "metadata": {
  "kernelspec": {
   "display_name": "QCArchive Development",
   "language": "python",
   "name": "qcadevel"
  },
  "language_info": {
   "codemirror_mode": {
    "name": "ipython",
    "version": 3
   },
   "file_extension": ".py",
   "mimetype": "text/x-python",
   "name": "python",
   "nbconvert_exporter": "python",
   "pygments_lexer": "ipython3",
   "version": "3.9.12"
  }
 },
 "nbformat": 4,
 "nbformat_minor": 5
}
